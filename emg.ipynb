{
 "cells": [
  {
   "cell_type": "code",
   "execution_count": 1,
   "metadata": {},
   "outputs": [],
   "source": [
    "import sklearn\n",
    "import pandas as pd"
   ]
  },
  {
   "cell_type": "code",
   "execution_count": 92,
   "metadata": {},
   "outputs": [],
   "source": [
    "data_good=pd.read_csv('D:\\\\emg_data\\\\20201103\\\\YCH\\\\featureData\\\\EMG19_31_33_good_1_nohead.txt',sep='\\s+')\n",
    "data_five=pd.read_csv('D:\\\\emg_data\\\\20201103\\\\YCH\\\\featureData\\\\EMG19_31_33_five_1_nohead.txt',sep='\\s+')\n",
    "data_one=pd.read_csv('D:\\\\emg_data\\\\20201103\\\\YCH\\\\featureData\\\\EMG19_31_33_one_1_nohead.txt',sep='\\s+')\n",
    "data_six=pd.read_csv('D:\\\\emg_data\\\\20201103\\\\YCH\\\\featureData\\\\EMG19_31_33_six_1_nohead.txt',sep='\\s+')\n",
    "data_ten=pd.read_csv('D:\\\\emg_data\\\\20201103\\\\YCH\\\\featureData\\\\EMG19_31_33_ten_1_nohead.txt',sep='\\s+')\n",
    "data_three=pd.read_csv('D:\\\\emg_data\\\\20201103\\\\YCH\\\\featureData\\\\EMG19_31_33_three_1_nohead.txt',sep='\\s+')"
   ]
  },
  {
   "cell_type": "code",
   "execution_count": 93,
   "metadata": {},
   "outputs": [],
   "source": [
    "data_three['label']=1\n",
    "data_ten['label']=2\n",
    "data_six['label']=3\n",
    "data_one['label']=4\n",
    "data_five['label']=5\n",
    "data_good['label']=6"
   ]
  },
  {
   "cell_type": "code",
   "execution_count": 94,
   "metadata": {},
   "outputs": [],
   "source": [
    "data_five.drop(['ZC1', 'ZC2', 'ZC3', 'ZC4',\n",
    "       'ZC5', 'ZC6', 'ZC7', 'ZC8', 'ZC9', 'ZC10', 'ZC11', 'ZC12', 'ZC13',\n",
    "       'ZC14', 'ZC15', 'ZC16'],axis=1,inplace=True)\n"
   ]
  },
  {
   "cell_type": "code",
   "execution_count": 95,
   "metadata": {},
   "outputs": [],
   "source": [
    "data=pd.concat([data_three,data_ten,data_six,data_one,data_five,data_good])"
   ]
  },
  {
   "cell_type": "code",
   "execution_count": 96,
   "metadata": {},
   "outputs": [],
   "source": [
    "#打乱顺序\n",
    "from sklearn.utils import shuffle\n",
    "data_raw = shuffle(data)\n",
    "x=data_raw.iloc[:,:-1]\n",
    "y=data_raw.iloc[:,-1]"
   ]
  },
  {
   "cell_type": "code",
   "execution_count": 97,
   "metadata": {},
   "outputs": [],
   "source": [
    "from sklearn.model_selection import StratifiedShuffleSplit\n",
    "\n",
    "split = StratifiedShuffleSplit(n_splits=1, test_size=0.2, random_state=42)\n",
    "for train_index, test_index in split.split(x, y):\n",
    "    strat_train_set = data_raw.iloc[train_index]\n",
    "    strat_test_set = data_raw.iloc[test_index]   # 保证测试集"
   ]
  },
  {
   "cell_type": "code",
   "execution_count": 101,
   "metadata": {},
   "outputs": [],
   "source": [
    "strat_train_x=strat_train_set.iloc[:,:-1]\n",
    "strat_train_y=strat_train_set.iloc[:,-1]\n",
    "strat_test_x=strat_test_set.iloc[:,:-1]\n",
    "strat_test_y=strat_test_set.iloc[:,-1]"
   ]
  },
  {
   "cell_type": "code",
   "execution_count": 107,
   "metadata": {},
   "outputs": [
    {
     "data": {
      "text/plain": [
       "0.9957264957264957"
      ]
     },
     "execution_count": 107,
     "metadata": {},
     "output_type": "execute_result"
    }
   ],
   "source": [
    "from sklearn import tree\n",
    "clf=tree.DecisionTreeClassifier()\n",
    "clf=clf.fit(strat_train_x,strat_train_y)\n",
    "y_pred=clf.predict(strat_test_x)\n",
    "clf.score(strat_test_x,strat_test_y)"
   ]
  },
  {
   "cell_type": "code",
   "execution_count": 113,
   "metadata": {},
   "outputs": [
    {
     "data": {
      "text/plain": [
       "<matplotlib.image.AxesImage at 0x26b931c64a8>"
      ]
     },
     "execution_count": 113,
     "metadata": {},
     "output_type": "execute_result"
    },
    {
     "data": {
      "image/png": "[encoded data removed]",
      "text/plain": [
       "<Figure size 432x288 with 1 Axes>"
      ]
     },
     "metadata": {
      "needs_background": "light"
     },
     "output_type": "display_data"
    }
   ],
   "source": [
    "from sklearn.metrics import confusion_matrix\n",
    "cnf_matrix=confusion_matrix(y_pred,strat_test_y)\n",
    "import matplotlib.pyplot as plt\n",
    "plt.imshow(cnf_matrix,interpolation='nearest',cmap=plt.cm.Blues)"
   ]
  },
  {
   "cell_type": "code",
   "execution_count": null,
   "metadata": {},
   "outputs": [],
   "source": []
  }
 ],
 "metadata": {
  "kernelspec": {
   "display_name": "Python 3",
   "language": "python",
   "name": "python3"
  },
  "language_info": {
   "codemirror_mode": {
    "name": "ipython",
    "version": 3
   },
   "file_extension": ".py",
   "mimetype": "text/x-python",
   "name": "python",
   "nbconvert_exporter": "python",
   "pygments_lexer": "ipython3",
   "version": "3.7.0"
  }
 },
 "nbformat": 4,
 "nbformat_minor": 2
}
